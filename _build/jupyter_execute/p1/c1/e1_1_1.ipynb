{
 "cells": [
  {
   "cell_type": "markdown",
   "metadata": {},
   "source": [
    "# Ejercicio 1"
   ]
  },
  {
   "cell_type": "markdown",
   "metadata": {},
   "source": [
    "![Fig1](./images/e1_1_1_IMAGEN.png)"
   ]
  },
  {
   "cell_type": "markdown",
   "metadata": {},
   "source": [
    "```{figure} ./images/e1_1_1_IMAGEN.png\n",
    ":align: center\n",
    ":name: figura-1\n",
    "\n",
    "Tubería y codo\n",
    "```"
   ]
  },
  {
   "cell_type": "markdown",
   "metadata": {},
   "source": [
    "```{list-table}\n",
    ":header-rows: 1\n",
    "\n",
    "* - Training\n",
    "  - Validation\n",
    "* - 0\n",
    "  - 5\n",
    "* - 13720\n",
    "  - 2744\n",
    "```"
   ]
  },
  {
   "cell_type": "markdown",
   "metadata": {},
   "source": []
  }
 ],
 "metadata": {
  "language_info": {
   "codemirror_mode": {
    "name": "ipython",
    "version": 3
   },
   "file_extension": ".py",
   "mimetype": "text/x-python",
   "name": "python",
   "nbconvert_exporter": "python",
   "pygments_lexer": "ipython3",
   "version": "3.11.7"
  }
 },
 "nbformat": 4,
 "nbformat_minor": 2
}