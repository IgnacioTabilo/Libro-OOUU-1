{
 "cells": [
  {
   "cell_type": "markdown",
   "metadata": {},
   "source": [
    "# Ejercicio 1: Momentum y Fuerza"
   ]
  },
  {
   "cell_type": "markdown",
   "metadata": {},
   "source": [
    "La ecuación de `Bernoulli` proviene de un equilibrio entre la fuerza que ejerce la variación de presión, el peso del fluido y la `variación de Momentum` a lo largo de la tubería (Si se ignora el efecto de la fricción en la superficie de la tubería). Para entender mejor la relación de Momentum y fuerza, su profesor le propone el siguiente caso:\n",
    "\n",
    "Un flujo de agua a 25°C con densidad $\\rho = 997.05 \\hspace{1mm}(kg/m^3)$ baja a velocidad constante por un sistema de tuberías hasta alcanzar un codo, cambiando su trayectoria. Este codo se encuentra sujetado por un fierro metálico. Si la velocidad del flujo es $u = 3 \\hspace{1mm}(m/s)$, ¿A qué fuerza se somete el fierro metálico considerando únicamente el efecto de la variación de Momentum producido por el flujo?"
   ]
  },
  {
   "cell_type": "markdown",
   "metadata": {},
   "source": [
    "```{figure} ./images/e1_1_1_IMAGEN.png\n",
    ":align: center\n",
    ":name: figura-1\n",
    "\n",
    "Tubería y codo\n",
    "```"
   ]
  },
  {
   "cell_type": "code",
   "execution_count": 1,
   "metadata": {
    "tags": [
     "hide-input"
    ]
   },
   "outputs": [
    {
     "name": "stdout",
     "output_type": "stream",
     "text": [
      "La respuesta es 11\n"
     ]
    }
   ],
   "source": [
    "x = 5 + 6\n",
    "print(\"La respuesta es\", x)"
   ]
  }
 ],
 "metadata": {
  "kernelspec": {
   "display_name": "Python 3",
   "language": "python",
   "name": "python3"
  },
  "language_info": {
   "codemirror_mode": {
    "name": "ipython",
    "version": 3
   },
   "file_extension": ".py",
   "mimetype": "text/x-python",
   "name": "python",
   "nbconvert_exporter": "python",
   "pygments_lexer": "ipython3",
   "version": "3.11.7"
  }
 },
 "nbformat": 4,
 "nbformat_minor": 2
}