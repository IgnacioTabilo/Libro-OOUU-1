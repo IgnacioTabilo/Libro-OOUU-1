{
 "cells": [
  {
   "cell_type": "markdown",
   "metadata": {},
   "source": [
    "# Ejercicio 2: Hidroestática"
   ]
  },
  {
   "cell_type": "markdown",
   "metadata": {},
   "source": [
    "## Enunciado"
   ]
  },
  {
   "cell_type": "markdown",
   "metadata": {},
   "source": [
    "Usted cuenta con un estanque conectado a dos tuberías abiertas. Una de ellas se encuentra expuesta a la presión atmosférica, mientras que la otra percibe una presión de $253 kPa$. Este sistema se compone de 3 fluidos inmiscibles, el fluido A con densidad de $\\rho_A = 1306 \\hspace{1mm}(kg/m^3)$, el fluido B con $\\rho_B = 8970.15 \\hspace{1mm}(kg/m^3)$ y el fluido C con $\\rho_C = 2588 \\hspace{1mm}(kg/m^3)$. En la figura se observan las dimensiones del sistema, con las cuales se le pide encontrar la altura X de la tubería en donde se encuentra el fluido A. Para esto responda lo siguiente:\n",
    "\n",
    "1. Marque los puntos en los cuales usted encuentre conveniente igualar las presiones del sistema completo.\n",
    "2. Calcule la altura X en metros."
   ]
  },
  {
   "cell_type": "markdown",
   "metadata": {},
   "source": [
    "```{figure} ./images/img1_1_2.png\n",
    ":align: center\n",
    ":name: figura-1\n",
    "\n",
    "Sistema de tuberías y estanque.\n",
    "```"
   ]
  },
  {
   "cell_type": "markdown",
   "metadata": {},
   "source": [
    "## Solución"
   ]
  },
  {
   "cell_type": "markdown",
   "metadata": {},
   "source": [
    "### Inciso 1"
   ]
  },
  {
   "cell_type": "markdown",
   "metadata": {
    "tags": []
   },
   "source": [
    "````{toggle}\n",
    "```{figure} ./images/img1_1_2-sol.png\n",
    ":align: center\n",
    ":name: figura-2\n",
    "```\n",
    "````"
   ]
  },
  {
   "cell_type": "markdown",
   "metadata": {},
   "source": [
    "### Inciso 2"
   ]
  },
  {
   "cell_type": "markdown",
   "metadata": {},
   "source": [
    "hola"
   ]
  },
  {
   "cell_type": "markdown",
   "metadata": {},
   "source": []
  }
 ],
 "metadata": {
  "language_info": {
   "name": "python"
  }
 },
 "nbformat": 4,
 "nbformat_minor": 2
}
